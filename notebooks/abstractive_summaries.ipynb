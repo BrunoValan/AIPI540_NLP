{
 "cells": [
  {
   "cell_type": "code",
   "execution_count": 1,
   "metadata": {},
   "outputs": [
    {
     "name": "stderr",
     "output_type": "stream",
     "text": [
      "/Users/brunovalan/opt/anaconda3/envs/AIPI540/lib/python3.10/site-packages/tqdm/auto.py:22: TqdmWarning: IProgress not found. Please update jupyter and ipywidgets. See https://ipywidgets.readthedocs.io/en/stable/user_install.html\n",
      "  from .autonotebook import tqdm as notebook_tqdm\n",
      "2023-03-18 15:39:51.919616: I tensorflow/core/platform/cpu_feature_guard.cc:193] This TensorFlow binary is optimized with oneAPI Deep Neural Network Library (oneDNN) to use the following CPU instructions in performance-critical operations:  AVX2 AVX512F AVX512_VNNI FMA\n",
      "To enable them in other operations, rebuild TensorFlow with the appropriate compiler flags.\n"
     ]
    }
   ],
   "source": [
    "from bs4 import BeautifulSoup\n",
    "from sentence_transformers import SentenceTransformer, util\n",
    "import numpy as np\n",
    "import requests\n",
    "from transformers import pipeline\n",
    "import nltk\n",
    "from nltk.corpus import stopwords\n",
    "from transformers import AutoModelForSeq2SeqLM, AutoTokenizer\n",
    "import matplotlib.pyplot as plt\n",
    "\n"
   ]
  },
  {
   "cell_type": "code",
   "execution_count": 2,
   "metadata": {},
   "outputs": [],
   "source": [
    "import pandas as pd\n",
    "import numpy as np\n"
   ]
  },
  {
   "cell_type": "code",
   "execution_count": 3,
   "metadata": {},
   "outputs": [
    {
     "data": {
      "text/html": [
       "<div>\n",
       "<style scoped>\n",
       "    .dataframe tbody tr th:only-of-type {\n",
       "        vertical-align: middle;\n",
       "    }\n",
       "\n",
       "    .dataframe tbody tr th {\n",
       "        vertical-align: top;\n",
       "    }\n",
       "\n",
       "    .dataframe thead th {\n",
       "        text-align: right;\n",
       "    }\n",
       "</style>\n",
       "<table border=\"1\" class=\"dataframe\">\n",
       "  <thead>\n",
       "    <tr style=\"text-align: right;\">\n",
       "      <th></th>\n",
       "      <th>Title</th>\n",
       "      <th>Location</th>\n",
       "      <th>Authors</th>\n",
       "      <th>Summary</th>\n",
       "      <th>Published</th>\n",
       "      <th>Language</th>\n",
       "      <th>System Details</th>\n",
       "      <th>Notes</th>\n",
       "      <th>Description</th>\n",
       "      <th>Description Details</th>\n",
       "      <th>Genre</th>\n",
       "      <th>OCLC</th>\n",
       "      <th>Other Identifiers</th>\n",
       "      <th>System ID</th>\n",
       "    </tr>\n",
       "  </thead>\n",
       "  <tbody>\n",
       "    <tr>\n",
       "      <th>0</th>\n",
       "      <td>1998 vital statistics of the United States : v...</td>\n",
       "      <td>Perkins Public Documents/Maps</td>\n",
       "      <td>National Center for Health Statistics (U.S.)</td>\n",
       "      <td>This CD ROM contains chiefly tables, a guide t...</td>\n",
       "      <td>[Washington, D.C.?] : Dept. of Health and Huma...</td>\n",
       "      <td>English</td>\n",
       "      <td>System requirements for Windows: IBM-compatibl...</td>\n",
       "      <td>Title from title screen.ISO 9660 format.\"Shipp...</td>\n",
       "      <td>1 CD-ROM ; 4 3/4 in.</td>\n",
       "      <td>Dimensions: 4 3/4 in.Color characteristics: po...</td>\n",
       "      <td>TablesStatistics, Vital</td>\n",
       "      <td>49537646.0</td>\n",
       "      <td>GPO Item Number: 0510</td>\n",
       "      <td>003072700</td>\n",
       "    </tr>\n",
       "    <tr>\n",
       "      <th>1</th>\n",
       "      <td>12th Education and Training in Optics and Phot...</td>\n",
       "      <td>NaN</td>\n",
       "      <td>NaN</td>\n",
       "      <td>Proceedings of SPIE present the original resea...</td>\n",
       "      <td>[S.l.] : [s.n.], 9999.</td>\n",
       "      <td>NaN</td>\n",
       "      <td>NaN</td>\n",
       "      <td>Title from content provider.</td>\n",
       "      <td>1 online resource</td>\n",
       "      <td>NaN</td>\n",
       "      <td>Electronic books</td>\n",
       "      <td>NaN</td>\n",
       "      <td>NaN</td>\n",
       "      <td>008891635</td>\n",
       "    </tr>\n",
       "    <tr>\n",
       "      <th>2</th>\n",
       "      <td>13th International Scientific Conference on Op...</td>\n",
       "      <td>NaN</td>\n",
       "      <td>NaN</td>\n",
       "      <td>Proceedings of SPIE present the original resea...</td>\n",
       "      <td>[S.l.] : [s.n.], 9999.</td>\n",
       "      <td>NaN</td>\n",
       "      <td>NaN</td>\n",
       "      <td>Title from content provider.</td>\n",
       "      <td>1 online resource</td>\n",
       "      <td>NaN</td>\n",
       "      <td>Electronic books</td>\n",
       "      <td>NaN</td>\n",
       "      <td>NaN</td>\n",
       "      <td>008891641</td>\n",
       "    </tr>\n",
       "    <tr>\n",
       "      <th>3</th>\n",
       "      <td>16th International Workshop on Physics of Semi...</td>\n",
       "      <td>NaN</td>\n",
       "      <td>NaN</td>\n",
       "      <td>Proceedings of SPIE present the original resea...</td>\n",
       "      <td>[S.l.] : [s.n.], 9999.</td>\n",
       "      <td>NaN</td>\n",
       "      <td>NaN</td>\n",
       "      <td>Title from content provider.</td>\n",
       "      <td>1 online resource</td>\n",
       "      <td>NaN</td>\n",
       "      <td>Electronic books</td>\n",
       "      <td>NaN</td>\n",
       "      <td>NaN</td>\n",
       "      <td>008891649</td>\n",
       "    </tr>\n",
       "    <tr>\n",
       "      <th>4</th>\n",
       "      <td>17th-18th century Burney Collection newspapers...</td>\n",
       "      <td>NaN</td>\n",
       "      <td>Burney, Charles, 1757-1817</td>\n",
       "      <td>Searchable full-text access to the British Lib...</td>\n",
       "      <td>[Farmington Hills, Mich.] : Gale Cengage Learn...</td>\n",
       "      <td>English</td>\n",
       "      <td>NaN</td>\n",
       "      <td>NaN</td>\n",
       "      <td>1 online resource</td>\n",
       "      <td>Color characteristics: polychromeFile type: te...</td>\n",
       "      <td>SourcesIndexesOnline databasesElectronic refer...</td>\n",
       "      <td>182626961.0</td>\n",
       "      <td>LCCN: 2013238254</td>\n",
       "      <td>003975405</td>\n",
       "    </tr>\n",
       "  </tbody>\n",
       "</table>\n",
       "</div>"
      ],
      "text/plain": [
       "                                               Title  \\\n",
       "0  1998 vital statistics of the United States : v...   \n",
       "1  12th Education and Training in Optics and Phot...   \n",
       "2  13th International Scientific Conference on Op...   \n",
       "3  16th International Workshop on Physics of Semi...   \n",
       "4  17th-18th century Burney Collection newspapers...   \n",
       "\n",
       "                        Location  \\\n",
       "0  Perkins Public Documents/Maps   \n",
       "1                            NaN   \n",
       "2                            NaN   \n",
       "3                            NaN   \n",
       "4                            NaN   \n",
       "\n",
       "                                        Authors  \\\n",
       "0  National Center for Health Statistics (U.S.)   \n",
       "1                                           NaN   \n",
       "2                                           NaN   \n",
       "3                                           NaN   \n",
       "4                    Burney, Charles, 1757-1817   \n",
       "\n",
       "                                             Summary  \\\n",
       "0  This CD ROM contains chiefly tables, a guide t...   \n",
       "1  Proceedings of SPIE present the original resea...   \n",
       "2  Proceedings of SPIE present the original resea...   \n",
       "3  Proceedings of SPIE present the original resea...   \n",
       "4  Searchable full-text access to the British Lib...   \n",
       "\n",
       "                                           Published Language  \\\n",
       "0  [Washington, D.C.?] : Dept. of Health and Huma...  English   \n",
       "1                             [S.l.] : [s.n.], 9999.      NaN   \n",
       "2                             [S.l.] : [s.n.], 9999.      NaN   \n",
       "3                             [S.l.] : [s.n.], 9999.      NaN   \n",
       "4  [Farmington Hills, Mich.] : Gale Cengage Learn...  English   \n",
       "\n",
       "                                      System Details  \\\n",
       "0  System requirements for Windows: IBM-compatibl...   \n",
       "1                                                NaN   \n",
       "2                                                NaN   \n",
       "3                                                NaN   \n",
       "4                                                NaN   \n",
       "\n",
       "                                               Notes           Description  \\\n",
       "0  Title from title screen.ISO 9660 format.\"Shipp...  1 CD-ROM ; 4 3/4 in.   \n",
       "1                       Title from content provider.     1 online resource   \n",
       "2                       Title from content provider.     1 online resource   \n",
       "3                       Title from content provider.     1 online resource   \n",
       "4                                                NaN     1 online resource   \n",
       "\n",
       "                                 Description Details  \\\n",
       "0  Dimensions: 4 3/4 in.Color characteristics: po...   \n",
       "1                                                NaN   \n",
       "2                                                NaN   \n",
       "3                                                NaN   \n",
       "4  Color characteristics: polychromeFile type: te...   \n",
       "\n",
       "                                               Genre         OCLC  \\\n",
       "0                            TablesStatistics, Vital   49537646.0   \n",
       "1                                   Electronic books          NaN   \n",
       "2                                   Electronic books          NaN   \n",
       "3                                   Electronic books          NaN   \n",
       "4  SourcesIndexesOnline databasesElectronic refer...  182626961.0   \n",
       "\n",
       "       Other Identifiers  System ID  \n",
       "0  GPO Item Number: 0510  003072700  \n",
       "1                    NaN  008891635  \n",
       "2                    NaN  008891641  \n",
       "3                    NaN  008891649  \n",
       "4       LCCN: 2013238254  003975405  "
      ]
     },
     "execution_count": 3,
     "metadata": {},
     "output_type": "execute_result"
    }
   ],
   "source": [
    "book_data = pd.read_csv('../Data/duke_books.csv')\n",
    "book_data.head()\n",
    "\n",
    "#see how many NA's are in the summary column \n",
    "book_data['Summary'].isna().sum()\n",
    "\n",
    "#drop NA values for now\n",
    "book_data = book_data.dropna(subset = ['Summary']).reset_index(drop = True)\n",
    "\n",
    "#look at data head\n",
    "book_data.head()"
   ]
  },
  {
   "cell_type": "code",
   "execution_count": 5,
   "metadata": {},
   "outputs": [],
   "source": [
    "#many summaries are short and so we don't need to summarize them, lets make a flag column for summary being > 100 words \n",
    "def word_count(text): \n",
    "    words = text.split()\n",
    "    return len(words)\n",
    "\n",
    "#create word count column\n",
    "book_data['word_count'] = book_data['Summary'].apply(word_count)\n"
   ]
  },
  {
   "cell_type": "code",
   "execution_count": 6,
   "metadata": {},
   "outputs": [
    {
     "data": {
      "text/plain": [
       "520"
      ]
     },
     "metadata": {},
     "output_type": "display_data"
    },
    {
     "data": {
      "image/png": "[encoded data removed]",
      "text/plain": [
       "<Figure size 640x480 with 1 Axes>"
      ]
     },
     "metadata": {},
     "output_type": "display_data"
    }
   ],
   "source": [
    "#look at distribution of summary word count - want to get an idea of how many summaries we want to generate/what the cut off shoudl be\n",
    "book_data['word_count'].hist(bins=20)\n",
    "\n",
    "#make sure that word count is below model max sequence length - 520 \n",
    "display(book_data['word_count'].max())\n",
    "\n",
    "# Set the title and axis labels of the histogram\n",
    "plt.title('Word Count Distribution')\n",
    "plt.xlabel('Number of Words in Summary')\n",
    "plt.ylabel('Frequency')\n",
    "\n",
    "# Show the histogram\n",
    "plt.show()\n",
    "\n",
    "#based on this I can try and use 100 as a cutoff "
   ]
  },
  {
   "cell_type": "code",
   "execution_count": 11,
   "metadata": {},
   "outputs": [
    {
     "data": {
      "text/plain": [
       "2755"
      ]
     },
     "metadata": {},
     "output_type": "display_data"
    },
    {
     "data": {
      "text/html": [
       "<div>\n",
       "<style scoped>\n",
       "    .dataframe tbody tr th:only-of-type {\n",
       "        vertical-align: middle;\n",
       "    }\n",
       "\n",
       "    .dataframe tbody tr th {\n",
       "        vertical-align: top;\n",
       "    }\n",
       "\n",
       "    .dataframe thead th {\n",
       "        text-align: right;\n",
       "    }\n",
       "</style>\n",
       "<table border=\"1\" class=\"dataframe\">\n",
       "  <thead>\n",
       "    <tr style=\"text-align: right;\">\n",
       "      <th></th>\n",
       "      <th>Title</th>\n",
       "      <th>Summary</th>\n",
       "      <th>full_text</th>\n",
       "    </tr>\n",
       "  </thead>\n",
       "  <tbody>\n",
       "    <tr>\n",
       "      <th>119</th>\n",
       "      <td>African American newspapers, 1827-1998. - Duke...</td>\n",
       "      <td>Provides access to U.S. newspapers chronicling...</td>\n",
       "      <td>African American newspapers, 1827-1998. - Duke...</td>\n",
       "    </tr>\n",
       "    <tr>\n",
       "      <th>130</th>\n",
       "      <td>All the world's primates. - Duke University Li...</td>\n",
       "      <td>All the World's Primates is the comprehensive ...</td>\n",
       "      <td>All the world's primates. - Duke University Li...</td>\n",
       "    </tr>\n",
       "    <tr>\n",
       "      <th>137</th>\n",
       "      <td>The American bench. - Duke University Librarie...</td>\n",
       "      <td>Court profiles on both federal and state court...</td>\n",
       "      <td>The American bench. - Duke University Librarie...</td>\n",
       "    </tr>\n",
       "    <tr>\n",
       "      <th>140</th>\n",
       "      <td>American Law Institute library. - Duke Univers...</td>\n",
       "      <td>The American Law Institute library on HeinOnli...</td>\n",
       "      <td>American Law Institute library. - Duke Univers...</td>\n",
       "    </tr>\n",
       "    <tr>\n",
       "      <th>172</th>\n",
       "      <td>Archives of sexuality &amp; gender. LGBTQ history ...</td>\n",
       "      <td>As part of the Archives of Sexuality &amp; Gender ...</td>\n",
       "      <td>Archives of sexuality &amp; gender. LGBTQ history ...</td>\n",
       "    </tr>\n",
       "  </tbody>\n",
       "</table>\n",
       "</div>"
      ],
      "text/plain": [
       "                                                 Title  \\\n",
       "119  African American newspapers, 1827-1998. - Duke...   \n",
       "130  All the world's primates. - Duke University Li...   \n",
       "137  The American bench. - Duke University Librarie...   \n",
       "140  American Law Institute library. - Duke Univers...   \n",
       "172  Archives of sexuality & gender. LGBTQ history ...   \n",
       "\n",
       "                                               Summary  \\\n",
       "119  Provides access to U.S. newspapers chronicling...   \n",
       "130  All the World's Primates is the comprehensive ...   \n",
       "137  Court profiles on both federal and state court...   \n",
       "140  The American Law Institute library on HeinOnli...   \n",
       "172  As part of the Archives of Sexuality & Gender ...   \n",
       "\n",
       "                                             full_text  \n",
       "119  African American newspapers, 1827-1998. - Duke...  \n",
       "130  All the world's primates. - Duke University Li...  \n",
       "137  The American bench. - Duke University Librarie...  \n",
       "140  American Law Institute library. - Duke Univers...  \n",
       "172  Archives of sexuality & gender. LGBTQ history ...  "
      ]
     },
     "metadata": {},
     "output_type": "display_data"
    }
   ],
   "source": [
    "#filter for books with longer summaries\n",
    "book_long = book_data[book_data['word_count'] >= 100] \n",
    "\n",
    "#drop everything but title and summary \n",
    "book_long = book_long.loc[:, ['Title', 'Summary']]\n",
    "\n",
    "#generate full combinations of title and text\n",
    "book_long['full_text'] = book_long.apply(lambda x: ' '.join([x['Title'],x['Summary']]),axis=1)\n",
    "\n",
    "#see how many observations we have\n",
    "display(len(book_long))\n",
    "display(book_long.head())\n"
   ]
  },
  {
   "cell_type": "code",
   "execution_count": 12,
   "metadata": {},
   "outputs": [],
   "source": [
    "model = AutoModelForSeq2SeqLM.from_pretrained(\"sshleifer/distilbart-cnn-12-6\")\n",
    "tokenizer = AutoTokenizer.from_pretrained(\"sshleifer/distilbart-cnn-12-6\")\n"
   ]
  },
  {
   "cell_type": "code",
   "execution_count": 9,
   "metadata": {},
   "outputs": [],
   "source": [
    "def truncate_summary(input_text):\n",
    "    inputs = tokenizer(input_text, return_tensors=\"pt\", max_length=1024, truncation=True)\n",
    "    outputs = model.generate(inputs[\"input_ids\"], max_length=200, min_length=100, length_penalty=1.0, num_beams=4, early_stopping=True)\n",
    "    summary = tokenizer.decode(outputs[0])\n",
    "    summary = summary.split('</s>')[-2].split('<s>')[-1].strip()\n",
    "    return summary \n"
   ]
  },
  {
   "cell_type": "code",
   "execution_count": null,
   "metadata": {},
   "outputs": [],
   "source": [
    "book_long['abbreviated_summary'] = book_long['full_text'].apply(truncate_summary)"
   ]
  },
  {
   "cell_type": "code",
   "execution_count": 62,
   "metadata": {},
   "outputs": [
    {
     "name": "stdout",
     "output_type": "stream",
     "text": [
      "U.S. newspapers chronicled a century and a half of the African American experience. Includes historically significant papers from more than 35 states. Covers life in the Antebellum South, growth of the Black church, the Jim Crow Era, the Great Migration, Harlem Renaissance, Civil Rights movement, and political and economic empowerment. Titles in Series 1 come from the Wisconsin Historical Society, Kansas State Historical Society and Library of Congress, while titles in Series 2 come from American Antiquarian Society, Center for Research Libraries.\n"
     ]
    }
   ],
   "source": [
    "print(books_long_trial.iloc[0][3])"
   ]
  },
  {
   "cell_type": "code",
   "execution_count": null,
   "metadata": {},
   "outputs": [],
   "source": [
    "#merge the abbreviated summary back on to the original data fame and fill NA with the original book summary\n",
    "def add_abstractive_summary(original_df, abbrev_df): \n",
    "    merged_df = pd.merge(original_df, abbrev_df, how = 'left', on = 'Title')\n",
    "    merged_df['abbreviated_summary'].fillna(merged_df['Summary'], inplace=True)\n",
    "    return merged_df\n",
    "    \n"
   ]
  }
 ],
 "metadata": {
  "kernelspec": {
   "display_name": "AIPI510",
   "language": "python",
   "name": "python3"
  },
  "language_info": {
   "codemirror_mode": {
    "name": "ipython",
    "version": 3
   },
   "file_extension": ".py",
   "mimetype": "text/x-python",
   "name": "python",
   "nbconvert_exporter": "python",
   "pygments_lexer": "ipython3",
   "version": "3.10.9"
  },
  "orig_nbformat": 4
 },
 "nbformat": 4,
 "nbformat_minor": 2
}
